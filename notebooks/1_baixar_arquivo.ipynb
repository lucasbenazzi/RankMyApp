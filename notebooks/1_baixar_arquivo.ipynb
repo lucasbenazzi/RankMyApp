{
 "cells": [
  {
   "cell_type": "markdown",
   "id": "22c8fa22-d94e-48dd-aa9a-d30918ce9a7d",
   "metadata": {},
   "source": [
    "## Baixar Arquivos\n",
    "\n",
    "Esse notebook está responsável por baixar os arquivos do banco de dados disponível. Para isso, também, são feitas algumas análises iniciais para melhorar a compreensão dos dados disponíveis.\n",
    "\n",
    "---"
   ]
  },
  {
   "cell_type": "code",
   "execution_count": 1,
   "id": "ec6dbfe4-6c03-4490-b88c-92f43bc7f938",
   "metadata": {},
   "outputs": [],
   "source": [
    "# importando pacotes\n",
    "from dotenv import load_dotenv\n",
    "import os\n",
    "import mysql.connector\n",
    "from sqlalchemy import create_engine\n",
    "import pandas as pd"
   ]
  },
  {
   "cell_type": "code",
   "execution_count": 2,
   "id": "4a13d712-1c07-42ee-abfa-4b254569a878",
   "metadata": {},
   "outputs": [],
   "source": [
    "# conectar com banco de dados\n",
    "load_dotenv()\n",
    "\n",
    "USER = os.getenv(\"USER\")\n",
    "PASSWORD = os.getenv(\"PASSWORD\")\n",
    "HOST = os.getenv(\"HOST\")\n",
    "DATABASE = os.getenv(\"DATABASE\")\n",
    "PORT = os.getenv(\"PORT\")\n",
    "\n",
    "conn = mysql.connector.connect(\n",
    "    host = HOST,\n",
    "    user = USER,\n",
    "    password = PASSWORD,\n",
    "    database = DATABASE,\n",
    "    port = PORT\n",
    ")\n",
    "\n",
    "cursor = conn.cursor()"
   ]
  },
  {
   "cell_type": "code",
   "execution_count": 3,
   "id": "ce6e8321-51aa-44c2-b1dd-99c67d9eaffe",
   "metadata": {},
   "outputs": [],
   "source": [
    "#função para auxiliar nas consultas\n",
    "def executar_query(cursor, query):\n",
    "    cursor.execute(query)\n",
    "    \n",
    "    retorno = cursor.fetchall()\n",
    "    cabecalho = [col[0] for col in cursor.description]\n",
    "\n",
    "    aux = [cabecalho] + retorno\n",
    "    \n",
    "    largura  = [max(len(str(linha[i])) for linha in aux) for i in range(len(cabecalho))]\n",
    "     \n",
    "    cabecalho = \" | \".join(f\"{cabecalho[i]:<{largura[i]}}\" for i in range(len(cabecalho)))\n",
    "    \n",
    "    print(cabecalho)\n",
    "    print(\"-\" * len(cabecalho))\n",
    "\n",
    "    for dado in retorno:\n",
    "        linha = \" | \".join(f\"{str(dado[i]):<{largura[i]}}\" for i in range(len(dado)))\n",
    "        print(linha)\n",
    "    print(f\"{\"-\" * len(cabecalho)}\\n\\n\")"
   ]
  },
  {
   "cell_type": "code",
   "execution_count": 4,
   "id": "3be36091-7299-4f8b-ad93-d4c75ee4868d",
   "metadata": {},
   "outputs": [
    {
     "name": "stdout",
     "output_type": "stream",
     "text": [
      "['daumau', 'desinstalacoes', 'installs', 'ratings_reviews']\n"
     ]
    }
   ],
   "source": [
    "# armazenar em uma variável todas as tabelas do banco de dados\n",
    "cursor.execute(\"SHOW TABLES;\")\n",
    "tabelas = [res[0] for res in cursor.fetchall()]\n",
    "print(tabelas)"
   ]
  },
  {
   "cell_type": "code",
   "execution_count": 5,
   "id": "f0e0bbda-4cea-4062-b665-a5f2c9f32351",
   "metadata": {},
   "outputs": [
    {
     "name": "stdout",
     "output_type": "stream",
     "text": [
      "TABLE_NAME      | TABLE_ROWS | TABLE_COMMENT\n",
      "--------------------------------------------\n",
      "daumau          | 41464      |              \n",
      "desinstalacoes  | 53126      |              \n",
      "installs        | 47002      |              \n",
      "ratings_reviews | 45890      |              \n",
      "--------------------------------------------\n",
      "\n",
      "\n"
     ]
    }
   ],
   "source": [
    "# buscar por documentação das tabelas\n",
    "executar_query(cursor, f\"\"\"\n",
    "SELECT TABLE_NAME, TABLE_ROWS, TABLE_COMMENT\n",
    "FROM INFORMATION_SCHEMA.TABLES\n",
    "WHERE TABLE_SCHEMA = '{DATABASE}'\"\"\")\n"
   ]
  },
  {
   "cell_type": "code",
   "execution_count": 6,
   "id": "c155e0e3-0766-40b5-9ef4-21494b6dbe79",
   "metadata": {},
   "outputs": [
    {
     "name": "stdout",
     "output_type": "stream",
     "text": [
      "Tabela: daumau\n",
      "COLUMN_NAME | COLUMN_COMMENT\n",
      "----------------------------\n",
      "appId       |               \n",
      "date        |               \n",
      "dauReal     |               \n",
      "mauReal     |               \n",
      "----------------------------\n",
      "\n",
      "\n",
      "Tabela: desinstalacoes\n",
      "COLUMN_NAME    | COLUMN_COMMENT\n",
      "-------------------------------\n",
      "appId          |               \n",
      "country        |               \n",
      "date           |               \n",
      "lang           |               \n",
      "predictionLoss |               \n",
      "-------------------------------\n",
      "\n",
      "\n",
      "Tabela: installs\n",
      "COLUMN_NAME | COLUMN_COMMENT\n",
      "----------------------------\n",
      "appid       |               \n",
      "date        |               \n",
      "newinstalls |               \n",
      "----------------------------\n",
      "\n",
      "\n",
      "Tabela: ratings_reviews\n",
      "COLUMN_NAME   | COLUMN_COMMENT\n",
      "------------------------------\n",
      "appid         |               \n",
      "category      |               \n",
      "daily_ratings |               \n",
      "daily_reviews |               \n",
      "date          |               \n",
      "ratings       |               \n",
      "reviews       |               \n",
      "------------------------------\n",
      "\n",
      "\n"
     ]
    }
   ],
   "source": [
    "# buscar por documentação das colunas\n",
    "for tabela in tabelas:\n",
    "    print(f\"Tabela: {tabela}\")\n",
    "    executar_query(cursor, f\"\"\"\n",
    "SELECT COLUMN_NAME, COLUMN_COMMENT\n",
    "FROM information_schema.COLUMNS\n",
    "WHERE TABLE_NAME = '{tabela}'\"\"\")"
   ]
  },
  {
   "cell_type": "code",
   "execution_count": 7,
   "id": "5251b987-02a5-4084-b23b-8e8abb9b5987",
   "metadata": {},
   "outputs": [
    {
     "name": "stdout",
     "output_type": "stream",
     "text": [
      "Tabela: daumau\n",
      "\n",
      "appId         | date       | dauReal   | mauReal   \n",
      "---------------------------------------------------\n",
      "com.app.33540 | 2024-01-01 | 393961.0  | 3643110.0 \n",
      "com.app.33540 | 2024-01-02 | 800448.0  | 3643040.0 \n",
      "com.app.31679 | 2024-01-01 | 157532.0  | 1349262.0 \n",
      "com.app.31679 | 2024-01-02 | 313847.0  | 1349317.0 \n",
      "com.app.77385 | 2024-01-01 | 239768.0  | 1934660.0 \n",
      "com.app.77385 | 2024-01-02 | 465620.0  | 1936143.0 \n",
      "com.app.41189 | 2024-01-01 | 4954347.0 | 19039746.0\n",
      "com.app.41189 | 2024-01-02 | 8137953.0 | 19042110.0\n",
      "com.app.85381 | 2024-01-01 | 1006.0    | 24799.0   \n",
      "com.app.85381 | 2024-01-02 | 1624.0    | 24862.0   \n",
      "---------------------------------------------------\n",
      "\n",
      "\n",
      "Tabela: desinstalacoes\n",
      "\n",
      "appId         | date                | country | lang | predictionLoss\n",
      "---------------------------------------------------------------------\n",
      "com.app.71740 | 2024-01-01 00:00:00 | br      | pt   | 1463          \n",
      "com.app.33540 | 2024-01-01 00:00:00 | br      | pt   | 8170          \n",
      "com.app.19544 | 2024-01-01 00:00:00 | br      | pt   | 77048         \n",
      "com.app.77385 | 2024-01-01 00:00:00 | br      | pt   | 4497          \n",
      "com.app.31679 | 2024-01-01 00:00:00 | br      | pt   | 4287          \n",
      "com.app.41189 | 2024-01-01 00:00:00 | br      | pt   | 45759         \n",
      "com.app.14360 | 2024-01-01 00:00:00 | br      | pt   | 1786          \n",
      "com.app.85381 | 2024-01-01 00:00:00 | br      | pt   | 1786          \n",
      "com.app.19772 | 2024-01-01 00:00:00 | br      | pt   | 5986          \n",
      "com.app.31153 | 2024-01-01 00:00:00 | br      | pt   | 45584         \n",
      "---------------------------------------------------------------------\n",
      "\n",
      "\n",
      "Tabela: installs\n",
      "\n",
      "appid         | date                | newinstalls\n",
      "-------------------------------------------------\n",
      "com.app.86367 | 2024-01-01 00:00:00 | 1968       \n",
      "com.app.18711 | 2024-01-01 00:00:00 | 1364       \n",
      "com.app.36257 | 2024-01-01 00:00:00 | 7511       \n",
      "com.app.88509 | 2024-01-01 00:00:00 | 53137      \n",
      "com.app.93131 | 2024-01-01 00:00:00 | 137        \n",
      "com.app.19821 | 2024-01-01 00:00:00 | 19353      \n",
      "com.app.60770 | 2024-01-01 00:00:00 | 177        \n",
      "com.app.97548 | 2024-01-01 00:00:00 | 5182       \n",
      "com.app.15675 | 2024-01-01 00:00:00 | 3490       \n",
      "com.app.35851 | 2024-01-01 00:00:00 | 1513       \n",
      "-------------------------------------------------\n",
      "\n",
      "\n",
      "Tabela: ratings_reviews\n",
      "\n",
      "date       | appid         | category         | ratings   | daily_ratings | reviews  | daily_reviews\n",
      "----------------------------------------------------------------------------------------------------\n",
      "2024-01-01 | com.app.40009 | OTHERS           | 63500.0   | 5.0           | 25251.0  | 0.0          \n",
      "2024-01-01 | com.app.88516 | OTHERS           | 2440.0    | 0.0           | 312.0    | 0.0          \n",
      "2024-01-01 | com.app.64634 | TRAVEL_AND_LOCAL | 536.0     | 0.0           | 331.0    | 0.0          \n",
      "2024-01-01 | com.app.78470 | SHOPPING         | 97924.0   | 7.0           | 27241.0  | 23.0         \n",
      "2024-01-01 | com.app.36433 | FINANCE          | 678.0     | 0.0           | 414.0    | 0.0          \n",
      "2024-01-01 | com.app.91525 | TRAVEL_AND_LOCAL | 3851.0    | 5.0           | 699.0    | 1.0          \n",
      "2024-01-01 | com.app.14509 | FINANCE          | 1242231.0 | 149.0         | 584161.0 | 136.0        \n",
      "2024-01-01 | com.app.97988 | SHOPPING         | 10744.0   | 0.0           | 4233.0   | 0.0          \n",
      "2024-01-01 | com.app.90842 | FINANCE          | 41272.0   | 1.0           | 21655.0  | 5.0          \n",
      "2024-01-01 | com.app.34625 | FINANCE          | 8244.0    | 1.0           | 2906.0   | 2.0          \n",
      "----------------------------------------------------------------------------------------------------\n",
      "\n",
      "\n"
     ]
    }
   ],
   "source": [
    "# como não temos uma documentação das tabelas, iremos seguir com uma análise exploratória\n",
    "for tabela in tabelas:\n",
    "    print(f\"Tabela: {tabela}\\n\")\n",
    "    executar_query(cursor, f\"SELECT * FROM {tabela} LIMIT 10\")\n",
    "    "
   ]
  },
  {
   "cell_type": "code",
   "execution_count": 1,
   "id": "bbc423d3-4ff5-4885-a6b8-03a867eef0b7",
   "metadata": {},
   "outputs": [],
   "source": [
    "# Pelos nomes das colunas, valores, e algumas consultas pontuais, temos:\n",
    "#\n",
    "# daumau\n",
    "#\tappId - identificador do aplicativo\n",
    "#\tdate - data (data)\n",
    "#\tdauReal - quantidade de usuários distintos ativos por dia\n",
    "#\tmauReal - quantidade de usuários distintos ativos por mês\n",
    "#\n",
    "# desisntalacoes\n",
    "#\tappId - identificador do aplicativo\n",
    "#\tdate - data (data+hora)\n",
    "#\tcountry - país do usuário\n",
    "#\tlang - língua selecionada do usuário\n",
    "#\tpredictionLoss - quantidade prevista de desinstalações do aplicativo\n",
    "#\n",
    "# installs\n",
    "#\tappid - identificador do aplicativo\n",
    "#\tdate - data (data+hora)\n",
    "#\tnewinstalls - quantidade de instalações do aplicativo\n",
    "#\n",
    "# ratings_reviews\n",
    "#\tdate - data (data)\n",
    "#\tappid - identificador do aplicativo\n",
    "#\tcategory - categoria do aplicativo\n",
    "#\tratings - avaliações totais até o determinado dia\n",
    "#\tdaily_ratings - novas avaliações no dia\n",
    "#\treviews - revisões totais do aplicativo\n",
    "#\tdaily_reviews - novas revisões no dia\n",
    "#\n",
    "# OBSERVACOES:\n",
    "#    * daumau e desisntalacoes utilizam \"appId\" enquanto que installs e ratings_review utilizam \"appid\". (Não causa erro no MySQL)\n",
    "#    * daumau e ratings_review utilizam \"date\" apenas com data, enquanto que desisntalacoes e installs utilizam \"date\" com \"data+hora\""
   ]
  },
  {
   "cell_type": "code",
   "execution_count": 9,
   "id": "9834c5e7-dbd0-45a5-80db-be09979d3730",
   "metadata": {},
   "outputs": [
    {
     "name": "stdout",
     "output_type": "stream",
     "text": [
      "appId | date | country | lang | predictionLoss\n",
      "----------------------------------------------\n",
      "----------------------------------------------\n",
      "\n",
      "\n",
      "appid | date | newinstalls\n",
      "--------------------------\n",
      "--------------------------\n",
      "\n",
      "\n"
     ]
    }
   ],
   "source": [
    "# validar se desinstalações e instalacoes apresentam alguma variação de hora\n",
    "executar_query(cursor, f\"\"\"\n",
    "SELECT * from desinstalacoes\n",
    "WHERE HOUR(date) + MINUTE(date) + SECOND(date) > 0\n",
    "\"\"\")\n",
    "\n",
    "executar_query(cursor, f\"\"\"\n",
    "SELECT * from installs\n",
    "WHERE HOUR(date) + MINUTE(date) + SECOND(date) > 0\n",
    "\"\"\")"
   ]
  },
  {
   "cell_type": "code",
   "execution_count": 10,
   "id": "881a81d9-423a-4170-8ec3-7b6fbf5b963b",
   "metadata": {},
   "outputs": [],
   "source": [
    "# Como não existem variações de hora, temos a confirmação que podemos cruzar os dados pelas colunas \"appId\" e \"date\" sem problemas.\n",
    "# Vamos fechar a conexão atual pois não vamos explorar mais os dados por enquanto.\n",
    "cursor.close()\n",
    "conn.close()"
   ]
  },
  {
   "cell_type": "code",
   "execution_count": 11,
   "id": "4ea0601b-4ddb-4edc-9583-88ab8aa7eb01",
   "metadata": {},
   "outputs": [],
   "source": [
    "# Pandas recomenda utilizar SQLAlchemy para armazenar os dados em um dataframe, por isso estamos abrindo novamente a conexão.\n",
    "string_conector = f\"mysql+mysqlconnector://{USER}:{PASSWORD}@{HOST}:{PORT}/{DATABASE}\"\n",
    "\n",
    "motor = create_engine(string_conector)\n",
    "\n",
    "# Vamos juntar todas as tabelas e armazenar em um arquivo unificado, mandento valores nulos que vão ser tratados nos próximos passos.\n",
    "query = f\"\"\"\n",
    "WITH dados_unificados AS (\n",
    "    \tSELECT appId, date FROM daumau\n",
    "    \tUNION\n",
    "    \tSELECT appId, DATE(date) AS date from desinstalacoes\n",
    "    \tUNION\n",
    "    \tSELECT appId AS appid, DATE(date) AS date from installs\n",
    "    \tUNION\n",
    "    \tSELECT appid AS appid, date from ratings_reviews\n",
    ")\n",
    "\n",
    "SELECT\n",
    "    du.appId,\n",
    "    du.date,\n",
    "\n",
    "    dau.dauReal,\n",
    "    dau.mauReal,\n",
    "\n",
    "    des.country,\n",
    "    des.lang,\n",
    "    des.predictionLoss,\n",
    "\n",
    "    ins.newinstalls,\n",
    "\n",
    "    rat.category,\n",
    "    rat.ratings,\n",
    "    rat.daily_ratings,\n",
    "    rat.reviews,\n",
    "    rat.daily_reviews\n",
    "    \n",
    "FROM dados_unificados AS du\n",
    "    LEFT JOIN daumau AS dau\n",
    "        ON dau.appId = du.appId AND dau.date = du.date\n",
    "    LEFT JOIN desinstalacoes AS des\n",
    "        ON des.appId = du.appId AND DATE(des.date) = du.date\n",
    "    LEFT JOIN installs AS ins\n",
    "        ON ins.appid = du.appId AND DATE(ins.date) = du.date\n",
    "    LEFT JOIN ratings_reviews as rat\n",
    "        ON rat.appid = du.appId AND rat.date = du.date\n",
    "\"\"\"\n",
    "\n",
    "df = pd.read_sql(query, motor)\n",
    "motor.dispose()"
   ]
  },
  {
   "cell_type": "code",
   "execution_count": 12,
   "id": "bdce2690-9bfe-4126-b31c-6a4d8a7cb7e7",
   "metadata": {},
   "outputs": [],
   "source": [
    "# armazenar os dados em um arquivo\n",
    "pasta_atual = os.getcwd()\n",
    "pasta_pai = os.path.dirname(pasta_atual)\n",
    "pasta_data = os.path.join(pasta_pai, \"data\")\n",
    "\n",
    "df.to_csv(f\"{pasta_data}\\\\dados_brutos.csv\", index=False)"
   ]
  }
 ],
 "metadata": {
  "kernelspec": {
   "display_name": "Python 3 (ipykernel)",
   "language": "python",
   "name": "python3"
  },
  "language_info": {
   "codemirror_mode": {
    "name": "ipython",
    "version": 3
   },
   "file_extension": ".py",
   "mimetype": "text/x-python",
   "name": "python",
   "nbconvert_exporter": "python",
   "pygments_lexer": "ipython3",
   "version": "3.13.5"
  }
 },
 "nbformat": 4,
 "nbformat_minor": 5
}
