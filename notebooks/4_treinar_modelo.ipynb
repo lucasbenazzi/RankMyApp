{
 "cells": [
  {
   "cell_type": "markdown",
   "id": "2d58d2f0-2720-4b20-b8ce-1651f7c90dce",
   "metadata": {},
   "source": [
    "## Treinamento do modelo\n",
    "\n",
    "Esse notebook está responsável por treinar o modelo a partir dos dados adquiridos no banco de dados. Para garantir a entrega da tarefa no tempo solicitado, o escopo do modelo foi mantido de forma mais simples, com muitas possibilidades de melhoria.\n",
    "\n",
    "---\n"
   ]
  },
  {
   "cell_type": "code",
   "execution_count": 1,
   "id": "604a988e-5eac-4a52-b9f8-ef5d669a57de",
   "metadata": {},
   "outputs": [],
   "source": [
    "# importando pacotes\n",
    "import os\n",
    "import pandas as pd\n",
    "import numpy as np\n",
    "\n",
    "import datetime\n",
    "import holidays\n",
    "\n",
    "import xgboost as xgb\n",
    "\n",
    "from sklearn.model_selection import train_test_split\n",
    "\n",
    "from sklearn.metrics import mean_squared_error\n",
    "from sklearn.metrics import mean_absolute_error\n",
    "from sklearn.metrics import mean_squared_log_error\n",
    "from sklearn.metrics import mean_absolute_percentage_error\n",
    "from sklearn.metrics import r2_score\n",
    "\n",
    "from sklearn.preprocessing import LabelEncoder"
   ]
  },
  {
   "cell_type": "code",
   "execution_count": 2,
   "id": "85ad03f7-c175-4d41-aa13-83b0f9a76047",
   "metadata": {},
   "outputs": [],
   "source": [
    "# agora que temos os dados preparados, podemos começar a treinar o modelo\n",
    "pasta_atual = os.getcwd()\n",
    "pasta_pai = os.path.dirname(pasta_atual)\n",
    "pasta_data = os.path.join(pasta_pai, \"data\")\n",
    "\n",
    "df = pd.read_csv(f\"{pasta_data}\\\\dados_limpos_e_completos.csv\", parse_dates=[\"date\"])\\\n",
    "    .sort_values(by=[\"date\", \"appId\"])\\\n",
    "    .reset_index(drop=True)"
   ]
  },
  {
   "cell_type": "code",
   "execution_count": 3,
   "id": "721501dc-0834-468e-b42d-b51e1354bca3",
   "metadata": {},
   "outputs": [
    {
     "data": {
      "text/plain": [
       "count                            54795\n",
       "mean     2024-05-20 23:59:59.999999744\n",
       "min                2024-01-02 00:00:00\n",
       "25%                2024-03-12 00:00:00\n",
       "50%                2024-05-21 00:00:00\n",
       "75%                2024-07-30 00:00:00\n",
       "max                2024-10-08 00:00:00\n",
       "Name: date, dtype: object"
      ]
     },
     "execution_count": 3,
     "metadata": {},
     "output_type": "execute_result"
    }
   ],
   "source": [
    "# definir dados de treinamento e de validação\n",
    "df[\"date\"].describe()"
   ]
  },
  {
   "cell_type": "code",
   "execution_count": 4,
   "id": "c308c9c8-4344-45f7-ade6-afb04c645b39",
   "metadata": {},
   "outputs": [],
   "source": [
    "# Vamos utilizar todos os dados disponíveis, exceto os últimos 30 dias para fazer o treinamento do modelo\n",
    "# Os 30 últimos dados vão ser utilizados na etapa seguinte\n",
    "data_minima_treinamento = df[\"date\"].min()\n",
    "data_maxima_treinamento = df[\"date\"].max() - pd.Timedelta(days=30)"
   ]
  },
  {
   "cell_type": "code",
   "execution_count": 5,
   "id": "0a132c3c-6f41-43d5-afd5-1d8576c9af08",
   "metadata": {},
   "outputs": [
    {
     "name": "stdout",
     "output_type": "stream",
     "text": [
      "minimo: 2024-01-02 00:00:00 - maximo: 2024-09-08 00:00:00\n"
     ]
    }
   ],
   "source": [
    "print(f\"minimo: {data_minima_treinamento} - maximo: {data_maxima_treinamento}\")"
   ]
  },
  {
   "cell_type": "code",
   "execution_count": 6,
   "id": "e97218cf-c68c-477e-aad2-87e0fd433841",
   "metadata": {},
   "outputs": [],
   "source": [
    "df_treinamento = df.loc[\n",
    "    (df[\"date\"] >= data_minima_treinamento)\n",
    "    & (df[\"date\"] <= data_maxima_treinamento)\n",
    "]"
   ]
  },
  {
   "cell_type": "code",
   "execution_count": 7,
   "id": "3d954adb-42b2-4f62-a100-8370ebc43f9a",
   "metadata": {},
   "outputs": [],
   "source": [
    "# Vamos desconsiderar as colunas de \"appId\", \"date\" e \"proximo_dauReal\" nos dados de treinamento\n",
    "colunas_X = [col for col in df.columns if col not in [\"appId\", \"date\", \"proximo_dauReal\"]]\n",
    "colunas_y = \"proximo_dauReal\""
   ]
  },
  {
   "cell_type": "code",
   "execution_count": 8,
   "id": "0633a87a-0b2b-4c9b-9bc7-786861e00f31",
   "metadata": {},
   "outputs": [
    {
     "name": "stdout",
     "output_type": "stream",
     "text": [
      "Treinando modelo...\n",
      "\n",
      "MSLE: 0.0242\n",
      "MAPE: 0.1262\n",
      "MAE: 20122.3173\n",
      "R2: 0.9943\n",
      "\n"
     ]
    }
   ],
   "source": [
    "# Vamos treinar o modelo e já calcular algumas métricas dos dados de teste\n",
    "def treinar_avaliar_modelo(aux_X, aux_y):\n",
    "    X = aux_X.copy()\n",
    "    y = aux_y.copy()\n",
    "\n",
    "    X_train, X_test, y_train, y_test = train_test_split(X, y, test_size=0.2, shuffle=True)\n",
    "\n",
    "    # idealmente, a escolha dos hyperparâmetros é feito através de um processo estruturado \n",
    "    model = xgb.XGBRegressor(\n",
    "        objective = 'count:poisson', # específico para contagem de eventos\n",
    "        n_estimators = 1200,\n",
    "        learning_rate = 0.2,\n",
    "        max_depth = 6,\n",
    "        random_state = 42\n",
    "    )\n",
    "\n",
    "    print(f\"Treinando modelo...\\n\")\n",
    "\n",
    "    model.fit(X_train, y_train, eval_set=[(X_test, y_test)], verbose=False)\n",
    "    \n",
    "    y_pred = model.predict(X_test)\n",
    "    \n",
    "    msle  = mean_squared_log_error(y_test, y_pred)\n",
    "    mape = mean_absolute_percentage_error(y_test, y_pred)\n",
    "    mae  = mean_absolute_error(y_test, y_pred)\n",
    "    r2 = r2_score(y_test, y_pred)\n",
    "    \n",
    "    print(f\"MSLE: {msle :.4f}\")\n",
    "    print(f\"MAPE: {mape :.4f}\")\n",
    "    print(f\"MAE: {mae:.4f}\")\n",
    "    print(f\"R2: {r2:.4f}\\n\")\n",
    "\n",
    "    return model\n",
    "\n",
    "X = df_treinamento[colunas_X]\n",
    "y = df_treinamento[colunas_y]\n",
    "\n",
    "model = treinar_avaliar_modelo(X, y)"
   ]
  },
  {
   "cell_type": "code",
   "execution_count": 9,
   "id": "a9ac228c-c94e-466e-8cd0-060f492002d4",
   "metadata": {},
   "outputs": [],
   "source": [
    "# Devido a grande variedade dos dados, os resultados se mostraram satisfatórios para o escopo atual do problema.\n",
    "# As possíveis melhorias vão ser descritas no arquivo README.md da apresentação do projeto.\n",
    "\n",
    "# Com o modelo treinado, podemos armazenar ele em um arquivo\n",
    "pasta_atual = os.getcwd()\n",
    "pasta_pai = os.path.dirname(pasta_atual)\n",
    "pasta_models = os.path.join(pasta_pai, \"models\")\n",
    "\n",
    "model.save_model(f\"{pasta_models}\\\\xgb_model.json\")"
   ]
  }
 ],
 "metadata": {
  "kernelspec": {
   "display_name": "Python 3 (ipykernel)",
   "language": "python",
   "name": "python3"
  },
  "language_info": {
   "codemirror_mode": {
    "name": "ipython",
    "version": 3
   },
   "file_extension": ".py",
   "mimetype": "text/x-python",
   "name": "python",
   "nbconvert_exporter": "python",
   "pygments_lexer": "ipython3",
   "version": "3.13.5"
  }
 },
 "nbformat": 4,
 "nbformat_minor": 5
}
